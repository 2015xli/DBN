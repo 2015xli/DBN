{
 "cells": [
  {
   "cell_type": "code",
   "execution_count": 2,
   "metadata": {
    "collapsed": true
   },
   "outputs": [],
   "source": [
    "from IPython.core.debugger import set_trace\n",
    "import gzip\n",
    "import struct\n",
    "\n",
    "import matplotlib as mpl\n",
    "import matplotlib.pyplot as plt\n",
    "\n",
    "# pre-requirement: MNIST data files stored in local directory under $folder/mnist/\n",
    "# after downloaded from http://yann.lecun.com/exdb/mnist/   \n",
    "class MnistInput:\n",
    "    def __init__(self, data, folder):\n",
    "        if data == \"train\":\n",
    "            zX = folder + \"/mnist/\" + 'train-images-idx3-ubyte.gz'\n",
    "            zy = folder + \"/mnist/\" + 'train-labels-idx1-ubyte.gz'\n",
    "        elif data == \"test\":\n",
    "            zX = folder + \"/mnist/\" + 't10k-images-idx3-ubyte.gz'\n",
    "            zy = folder + \"/mnist/\" + 't10k-labels-idx1-ubyte.gz'\n",
    "        else: raise ValueError(\"Incorrect data input\")\n",
    "        \n",
    "        self.zX = zX\n",
    "        self.zy = zy\n",
    "        return\n",
    "    \n",
    "    def read(self, num):\n",
    "\n",
    "        zX = self.zX\n",
    "        zy = self.zy\n",
    "        with gzip.open(zX) as fX, gzip.open(zy) as fy:\n",
    "            magic, nX, rows, cols = struct.unpack(\">IIII\", fX.read(16))\n",
    "            magic, ny = struct.unpack(\">II\", fy.read(8))\n",
    "            if nX != ny: raise ValueError(\"Inconsistent data and label files\")\n",
    "\n",
    "            img_size = cols*rows\n",
    "            if num <= 0 or num > nX: num = nX \n",
    "            for i in range(num):\n",
    "                X = struct.unpack(\"B\"*img_size, fX.read(img_size))\n",
    "                X = np.array(X).reshape(rows, cols)\n",
    "                y, = struct.unpack(\"B\", fy.read(1))\n",
    "                yield (X, y)\n",
    "        return\n",
    "    \n"
   ]
  },
  {
   "cell_type": "code",
   "execution_count": 3,
   "metadata": {
    "collapsed": true
   },
   "outputs": [],
   "source": [
    "class MNIST:\n",
    "\n",
    "    def __init__(self, nn, folder=\"../convolution-network\"):   \n",
    "        self.nn = nn\n",
    "        self.train_input = MnistInput(\"train\", folder)\n",
    "        self.test_input = MnistInput(\"test\", folder)\n",
    "        return\n",
    "    \n",
    "    def train(self, n_sample):\n",
    "        i = 1\n",
    "        for X, y in self.train_input.read(n_sample):\n",
    "            X = X/255\n",
    "            if self.nn.type == \"MLP\" or self.nn.type == \"RNN\":\n",
    "                X = X.reshape(-1,1)                \n",
    "            else:\n",
    "                X = np.array([X])\n",
    "            #print(\"Training: \", i); i+=1\n",
    "            #if i==100 or i==200: set_trace()\n",
    "            self.nn.train_1sample(X, y)\n",
    "        return\n",
    "            \n",
    "    def test(self, n_sample):\n",
    "        correct = 0\n",
    "        total = 0\n",
    "        for X, y in self.test_input.read(n_sample):\n",
    "            aX = X/255\n",
    "            if self.nn.type == \"MLP\" or self.nn.type == \"RNN\":\n",
    "                aX = aX.reshape(-1,1)\n",
    "            else:\n",
    "                aX = np.array([aX])\n",
    "\n",
    "            predict = self.nn.predict_1sample(aX)\n",
    "            correct += 1 * (predict == y)\n",
    "            total += 1\n",
    "            #print(\"\\nPredict {} to be {}:\".format(y, predict))\n",
    "            #plt.imshow(X, cmap=mpl.cm.Greys)\n",
    "            #plt.show()\n",
    "            \n",
    "        accuracy = correct/total\n",
    "        return accuracy"
   ]
  }
 ],
 "metadata": {
  "kernelspec": {
   "display_name": "Python 3",
   "language": "python",
   "name": "python3"
  },
  "language_info": {
   "codemirror_mode": {
    "name": "ipython",
    "version": 3
   },
   "file_extension": ".py",
   "mimetype": "text/x-python",
   "name": "python",
   "nbconvert_exporter": "python",
   "pygments_lexer": "ipython3",
   "version": "3.6.2"
  }
 },
 "nbformat": 4,
 "nbformat_minor": 2
}
